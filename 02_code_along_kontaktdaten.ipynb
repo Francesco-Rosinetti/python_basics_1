{
 "cells": [
  {
   "attachments": {},
   "cell_type": "markdown",
   "metadata": {},
   "source": [
    "# Code Along\n",
    "\n",
    "## Vorstellung Use Case und Datensatz\n",
    "Wir möchten eine Liste mit Kontaktdaten einlesen und verarbeiten. (keine echten Kontakte, Achtung Datenschutz!)\n",
    "\n",
    "Dabei lernen wir den Datenimport und einfache Analysen mit Python Grundfunktionen kennen.\n",
    "- Einlesen der Daten (gesamt, zeilenweise, als dictionary,...)\n",
    "- Prüfen und Ändern von Datentypen\n",
    "- Fehlerbehandlung und Datenbereinigung\n",
    "- Erste Auswertung mit den Daten"
   ]
  },
  {
   "attachments": {},
   "cell_type": "markdown",
   "metadata": {},
   "source": [
    "## 1) CSV mit Excel oder Editor öffnen\n",
    "\n",
    "## 2) Datei lesen und anzeigen\n",
    "\n",
    "Mit der Funktion [`open()`](https://docs.python.org/3/library/functions.html#open) wird die Datei `.csv` aus dem Ordner `data` geöffnet und die Referenz dazu (ein file-Objekt) der Variable `csvfile` zugewiesen. Der Ausdruck `\"data/Kontakte.csv\"` ist eine Zeichenkette vom Datentyp [`str`](https://docs.python.org/3/library/stdtypes.html#textseq).\n",
    "\n",
    "Mit `csvfile.read()` wird der Inhalt der Datei gelesen der Variable `data` zugewiesen.\n",
    "\n",
    "Die `print()`-Funktion gibt eine Textdarstellung der ihr übergebenen Parameter (in diesem Fall `data`) in der Kommandozeile aus.\n",
    "\n",
    "Nach dem Arbeiten mit einer Datei sollte diese (hier mit `csvfile.close()`) wieder geschlossen werden. Sonst kann es vorkommen, dass das Schreiben in eine Datei nicht korrekt abgeschlossen wird, bevor das Programm endet."
   ]
  },
  {
   "cell_type": "code",
   "execution_count": 1,
   "metadata": {},
   "outputs": [
    {
     "name": "stdout",
     "output_type": "stream",
     "text": [
      "Anrede,Titel,Vorname,Nachname,Adresse,Firma,E-Mail,Telefon-Nr.,Geburtstag\n",
      "Frau,Dr.,Emma,Kambs,\"GÃ¼nter-Lange-StraÃŸe 3, 77839 Borken\",Sorgatz,emma.kambs@sorgatz.eu,+49(0) 182838907,02.07.1975\n",
      "Herr,Dr.,Michael,Kaul,\"Nikola-Wohlgemut-Weg 78, 91098 Zerbst\",Pieper Haering AG,michael.kaul@pieper_haering.eu,0303777834,17.11.1983\n",
      "Herr,,Noah,Stiebitz,\"Biggengasse 47, 80687 Heiligenstadt\",Cichorius MatthÃ¤i GmbH,noah.stiebitz@cichoriusmatthaei.eu,02507 48374,07.03.1963\n",
      "Herr,,Markus,Tlustek,\"Albert-Wirth-Weg 2, 71781 Strausberg\",Keudel GmbH,markus.tlustek@keudelgmbh.eu,+49(0) 253232786,27.09.1970\n",
      "Frau,,Laura,Thies,\"Blochplatz 27, 43917 Erbisdorf\",Trupp KG,laura.thies@truppkg.eu,(06930) 24803,03.11.1982\n",
      "Frau,,Anna,Seip,\"Julian-Schmidtke-Ring 8, 87766 Regen\",Riehl,anna.seip@riehl.com,+49(0) 224032903,31.12.1954\n",
      "Frau,,Marie,Jacob,\"KramerstraÃŸe 20, 86067 GÃ¼nzburg\",Heintze,marie.jacob@heintze.com,(01935) 879148,12.12.1959\n",
      "Frau,Prof. Dr.,Heidi,Thanel,\"Stiffelweg 90, 51519 Leipziger Land\",Ebert AG,he\n"
     ]
    }
   ],
   "source": [
    "csvfile = open(\"data/Kontakte.csv\")\n",
    "data = csvfile.read()\n",
    "csvfile.close()\n",
    "print(data[:1000]) # zeige die ersten 1000 Zeichen"
   ]
  },
  {
   "attachments": {},
   "cell_type": "markdown",
   "metadata": {},
   "source": [
    "### schlanker und einfacher mit \"with\" statement\n",
    "Einen sicheren Umgang mit dem Öffnen und Schließen von Dateien bietet das [`with`-Statement](https://docs.python.org/3/reference/compound_stmts.html#with).\n",
    "\n",
    "Einrückungen haben eine Bedeutung in Python: sie definieren zusammengehörige Code-Blöcke. In diesem Fall ist die vom File-Objekt `csvfile` repräsentierte Datei nur im eingerückten Code-Block unter dem `with`-Statement verfügbar und wird danach wieder ordnungsgemäß geschlossen.\n",
    "\n",
    "Python Grundlagen: [Dateien Lesen und Schreiben](#dateien-lesen-und-schreiben), [Strings](#strings)"
   ]
  },
  {
   "cell_type": "code",
   "execution_count": 2,
   "metadata": {},
   "outputs": [
    {
     "name": "stdout",
     "output_type": "stream",
     "text": [
      "Anrede,Titel,Vorname,Nachname,Adresse,Firma,E-Mail,Telefon-Nr.,Geburtstag\n",
      "Frau,Dr.,Emma,Kambs,\"GÃ¼nter-Lange-StraÃŸe 3, 77839 Borken\",Sorgatz,emma.kambs@sorgatz.eu,+49(0) 182838907,02.07.1975\n",
      "Herr,Dr.,Michael,Kaul,\"Nikola-Wohlgemut-Weg 78, 91098 Zerbst\",Pieper Haering AG,michael.kaul@pieper_haering.eu,0303777834,17.11.1983\n",
      "Herr,,Noah,Stiebitz,\"Biggengasse 47, 80687 Heiligenstadt\",Cichorius MatthÃ¤i GmbH,noah.stiebitz@cichoriusmatthaei.eu,02507 48374,07.03.1963\n",
      "Herr,,Markus,Tlustek,\"Albert-Wirth-Weg 2, 71781 Strausberg\",Keudel GmbH,markus.tlustek@keudelgmbh.eu,+49(0) 253232786,27.09.1970\n",
      "Frau,,Laura,Thies,\"Blochplatz 27, 43917 Erbisdorf\",Trupp KG,laura.thies@truppkg.eu,(06930) 24803,03.11.1982\n",
      "Frau,,Anna,Seip,\"Julian-Schmidtke-Ring 8, 87766 Regen\",Riehl,anna.seip@riehl.com,+49(0) 224032903,31.12.1954\n",
      "Frau,,Marie,Jacob,\"KramerstraÃŸe 20, 86067 GÃ¼nzburg\",Heintze,marie.jacob@heintze.com,(01935) 879148,12.12.1959\n",
      "Frau,Prof. Dr.,Heidi,Thanel,\"Stiffelweg 90, 51519 Leipziger Land\",Ebert AG,he\n"
     ]
    }
   ],
   "source": [
    "with open(\"data/Kontakte.csv\") as csvfile:\n",
    "    data = csvfile.read()\n",
    "    print(data[:1000])"
   ]
  },
  {
   "attachments": {},
   "cell_type": "markdown",
   "metadata": {},
   "source": [
    "**DISKUSSION**\n",
    "- Welcher Datentyp ist data?\n",
    "- Umlaute (ä,ü,ö) werden nicht korrekt ausgegeben. Wie kann der Fehler behoben werden? "
   ]
  },
  {
   "cell_type": "code",
   "execution_count": null,
   "metadata": {},
   "outputs": [],
   "source": []
  },
  {
   "cell_type": "code",
   "execution_count": null,
   "metadata": {},
   "outputs": [],
   "source": []
  },
  {
   "attachments": {},
   "cell_type": "markdown",
   "metadata": {},
   "source": [
    "## 3) Zeilenweise lesen\n",
    "\n",
    "Anstatt des gesamten Dateiinhalts kann auch nur eine einzelne Zeile ausgelesen werden:"
   ]
  },
  {
   "cell_type": "code",
   "execution_count": 100,
   "metadata": {},
   "outputs": [
    {
     "name": "stdout",
     "output_type": "stream",
     "text": [
      "Anrede,Titel,Vorname,Nachname,Adresse,Firma,E-Mail,Telefon-Nr.,Geburtstag\n",
      "\n"
     ]
    }
   ],
   "source": [
    "with open(\"data/Kontakte.csv\") as csvfile:\n",
    "    line = csvfile.readline()\n",
    "    print(line)"
   ]
  },
  {
   "attachments": {},
   "cell_type": "markdown",
   "metadata": {},
   "source": [
    "Damit nicht nur eine, sondern alle Zeilen einzeln ausgelesen werden, müsste die `readline()`-Funktion mehrmals wiederholt werden. Für Wiederholungen von Anweisungen gibt es in Programmiersprachen **Schleifen**. Da das zeilenweise Lesen von Textdateien sehr häufig vorkommt, gibt es dafür in Python eine besondere Schreibweise:"
   ]
  },
  {
   "cell_type": "code",
   "execution_count": 104,
   "metadata": {},
   "outputs": [
    {
     "ename": "IndentationError",
     "evalue": "expected an indented block after 'for' statement on line 2 (2223658089.py, line 3)",
     "output_type": "error",
     "traceback": [
      "\u001b[1;36m  Input \u001b[1;32mIn [104]\u001b[1;36m\u001b[0m\n\u001b[1;33m    # print(line, end=\"\")\u001b[0m\n\u001b[1;37m                         ^\u001b[0m\n\u001b[1;31mIndentationError\u001b[0m\u001b[1;31m:\u001b[0m expected an indented block after 'for' statement on line 2\n"
     ]
    }
   ],
   "source": [
    "with open(\"data/Kontakte.csv\") as csvfile:\n",
    "    for line in csvfile:\n",
    "        # print(line, end=\"\")"
   ]
  },
  {
   "attachments": {},
   "cell_type": "markdown",
   "metadata": {},
   "source": [
    "Es wird eine `for`-Schleife definiert. Hier wird über `csvfile` iteriert. Nacheinander wird der Variable `line` der Inhalt einer Zeile zugewiesen und damit der eingerückte Code ausgeführt.\n",
    "\n",
    "Die `print()`-Funktion wird hier mit dem zusätzlichen Parameter `end=\"\"` aufgerufen. Standardmäßig wird an die Ausgabe von `print()` ein Zeilenumbruch (`end=\"\\n\"`) angehängt. Da die Zeileninhalte `line` jedoch schon mit Zeilenumbrüchen enden, wird der zusätzliche Umbruch damit entfernt.\n",
    "\n",
    "Python-Grundlagen: [Schleifen](#schleifen)"
   ]
  },
  {
   "attachments": {},
   "cell_type": "markdown",
   "metadata": {},
   "source": [
    "## 4) Zeilen in Spalten trennen\n",
    "\n",
    "Jetzt können wir beginnen, die einzelnen Zeilen in ihre Spalten aufzutrennen:"
   ]
  },
  {
   "cell_type": "code",
   "execution_count": 105,
   "metadata": {},
   "outputs": [
    {
     "name": "stdout",
     "output_type": "stream",
     "text": [
      "['Anrede', 'Titel', 'Vorname', 'Nachname', 'Adresse', 'Firma', 'E-Mail', 'Telefon-Nr.', 'Geburtstag\\n']\n"
     ]
    }
   ],
   "source": [
    "with open(\"data/Kontakte.csv\", encoding=\"utf-8\") as csvfile:\n",
    "    fieldnames = csvfile.readline().split(\",\")    \n",
    "    print(fieldnames)\n",
    "    for line in csvfile:\n",
    "        values = line.split(\",\")\n",
    "        # print(values)"
   ]
  },
  {
   "attachments": {},
   "cell_type": "markdown",
   "metadata": {},
   "source": [
    "**DISKUSSION**\n",
    "- Am Ende jeder Zeile erscheint ein sogenanntes newline Zeichen. Wir möchten dieses Zeichen aber nicht in den Daten haben. Versuche es mithilfe des replace Befehls zu entfernen."
   ]
  },
  {
   "cell_type": "code",
   "execution_count": null,
   "metadata": {},
   "outputs": [],
   "source": []
  },
  {
   "attachments": {},
   "cell_type": "markdown",
   "metadata": {},
   "source": [
    "Zuerst wird nur die erste Zeile (Beschreibung der Datenfelder) eingelesen und bei jedem Vorkommen eines Kommas (`,`) mit der [String-Funktion `split()`](https://docs.python.org/3/library/stdtypes.html#str.split) getrennt. Diese **Liste** von Datenfeldnamen wird der Variable `fieldnames` zugewiesen und ausgegeben.\n",
    "\n",
    "Ebenso werden die Datenwerte in den folgenden Zeilen von `csvfile` getrennt und ausgegeben.\n",
    "\n",
    "Jetzt können nur einzelne Spalten angezeigt werden, beispielsweise nur `Anrede`, `Nachname` und `Firma`. Diese befinden sich in den `fieldnames` bzw. in den Datenwerten an den Indizes 0, 3, 6. (Die Zählung beginnt bei Null.)"
   ]
  },
  {
   "cell_type": "code",
   "execution_count": 106,
   "metadata": {},
   "outputs": [
    {
     "name": "stdout",
     "output_type": "stream",
     "text": [
      "Anrede Nachname E-Mail\n"
     ]
    }
   ],
   "source": [
    "with open(\"data/Kontakte.csv\", encoding=\"utf-8\") as csvfile:\n",
    "    fieldnames = csvfile.readline().split(\",\")\n",
    "    print(fieldnames[0], fieldnames[3], fieldnames[6])\n",
    "    for line in csvfile:\n",
    "        values = line.split(\",\")\n",
    "        # print(values[0], values[3], values[6])"
   ]
  },
  {
   "attachments": {},
   "cell_type": "markdown",
   "metadata": {},
   "source": [
    "**DISKUSSION**\n",
    "- Was fällt bei der Datenausgabe auf? Passen Überschrift und Inhalt zusammen?\n",
    "- Wie kannd er Fehler behoben werden? Hinweis: Verwendung von Kommas"
   ]
  },
  {
   "attachments": {},
   "cell_type": "markdown",
   "metadata": {},
   "source": [
    "## 5) Einlesen als dictionary\n",
    "Anstatt einer nummerierten Liste von Werten pro Datensatz können wir auch ein **[`dict`](https://docs.python.org/3/library/stdtypes.html#mapping-types-dict) ([Dictionary]{lang=\"en\"})** verwenden, das Datenwerte mit Schlüsselwörtern speichert:"
   ]
  },
  {
   "cell_type": "code",
   "execution_count": 107,
   "metadata": {},
   "outputs": [
    {
     "name": "stdout",
     "output_type": "stream",
     "text": [
      "Anrede Nachname Firma\n"
     ]
    }
   ],
   "source": [
    "with open(\"data/Kontakte.csv\", encoding=\"utf-8\") as csvfile:\n",
    "    fieldnames = csvfile.readline().split(\",\")\n",
    "    print(fieldnames[0], fieldnames[3], fieldnames[5])\n",
    "    for line in csvfile:\n",
    "        values = line.split(\",\")\n",
    "        row = dict()\n",
    "        for index, key in enumerate(fieldnames):\n",
    "            row[key] = values[index]\n",
    "        # print(row[\"Anrede\"], row[\"Nachname\"], row[\"Firma\"])"
   ]
  },
  {
   "attachments": {},
   "cell_type": "markdown",
   "metadata": {},
   "source": [
    "Zuerst wird ein neues Dictionary `row` definiert. Dann wird über `fieldnames` iteriert, wobei durch die Funktion [`enumerate()`](https://docs.python.org/3/library/functions.html#enumerate) zu jedem Wert `key` auch eine Zählvariable `index` zurückgegeben wird. Dann wird in `row` jedem `key` der entsprechende Wert von `values` am Index `index` zugewiesen.\n",
    "\n",
    "Dadurch kann auf die Entsprechenden Werte von `row` jetzt über die Schlüsselwörter `Anrede`, `Nachname` und `Firma` zugegriffen werden.\n",
    "\n",
    "`row` kann auch mit einem einzeiligen [Python-Generator](https://wiki.python.org/moin/Generators) erzeugt werden.\n",
    "\n",
    "Python Grundlagen: [Listen](#liste), [Dictionaries](#dictionary)"
   ]
  },
  {
   "cell_type": "code",
   "execution_count": 108,
   "metadata": {},
   "outputs": [
    {
     "name": "stdout",
     "output_type": "stream",
     "text": [
      "Anrede Nachname E-Mail\n"
     ]
    }
   ],
   "source": [
    "with open(\"data/Kontakte.csv\", encoding=\"utf-8\") as csvfile:\n",
    "    fieldnames = csvfile.readline().split(\",\")\n",
    "    print(fieldnames[0], fieldnames[3], fieldnames[6])\n",
    "    for line in csvfile:\n",
    "        values = line.split(\",\")\n",
    "        row = {key: values[index] for index, key in enumerate(fieldnames)}\n",
    "        # print(row[\"Anrede\"], row[\"Nachname\"], row[\"Firma\"])"
   ]
  },
  {
   "attachments": {},
   "cell_type": "markdown",
   "metadata": {},
   "source": [
    "## 6) Lesen mit csv Modul\n",
    "Da das CSV-Format (Comma Separated Values, kommagetrennte Werte) eins der verbreitetsten\n",
    "Formate für den Austausch von tabularen Daten ist, sind Funktionen für das Lesen und\n",
    "Schreiben von CSV-Dateien in der Python-Standardbibliothek enthalten."
   ]
  },
  {
   "cell_type": "code",
   "execution_count": 112,
   "metadata": {},
   "outputs": [
    {
     "ename": "IndentationError",
     "evalue": "expected an indented block after 'for' statement on line 5 (2836931029.py, line 6)",
     "output_type": "error",
     "traceback": [
      "\u001b[1;36m  Input \u001b[1;32mIn [112]\u001b[1;36m\u001b[0m\n\u001b[1;33m    # print(row[\"Anrede\"], row[\"Nachname\"], row[\"E-Mail\"])\u001b[0m\n\u001b[1;37m                                                          ^\u001b[0m\n\u001b[1;31mIndentationError\u001b[0m\u001b[1;31m:\u001b[0m expected an indented block after 'for' statement on line 5\n"
     ]
    }
   ],
   "source": [
    "import csv\n",
    "\n",
    "with open(\"data/Kontakte.csv\", encoding=\"utf-8\") as csvfile:\n",
    "    kontakt_reader = csv.DictReader(csvfile, delimiter=\",\")\n",
    "    for row in kontakt_reader:\n",
    "        # print(row[\"Anrede\"], row[\"Nachname\"], row[\"E-Mail\"])"
   ]
  },
  {
   "attachments": {},
   "cell_type": "markdown",
   "metadata": {},
   "source": [
    "Mit der Funktion `csv.reader()` wird ein Reader-Objekt `kontakt_reader` erzeugt, das die Referenz zur Datei `csvfile` sowie die Information über das verwendete Trennzeichen (`delimiter`) enthält."
   ]
  },
  {
   "attachments": {},
   "cell_type": "markdown",
   "metadata": {},
   "source": [
    "### Datentypen anzeigen\n",
    "Auf die einzelnen Werte der Datensätze kann jetzt bequem zugegriffen werden. Allerdings sind\n",
    "die Werte bisher noch alle Zeichenketten:"
   ]
  },
  {
   "cell_type": "code",
   "execution_count": 14,
   "metadata": {},
   "outputs": [
    {
     "name": "stdout",
     "output_type": "stream",
     "text": [
      "Anrede              : <class 'str'>\n",
      "Titel               : <class 'str'>\n",
      "Vorname             : <class 'str'>\n",
      "Nachname            : <class 'str'>\n",
      "Adresse             : <class 'str'>\n",
      "Firma               : <class 'str'>\n",
      "E-Mail              : <class 'str'>\n",
      "Telefon-Nr.         : <class 'str'>\n",
      "Geburtstag          : <class 'str'>\n"
     ]
    }
   ],
   "source": [
    "with open(\"data/Kontakte.csv\", encoding=\"utf-8\") as csvfile:\n",
    "    kontakt_reader = csv.DictReader(csvfile, delimiter=\",\")\n",
    "    first_row = next(kontakt_reader)\n",
    "    for key, value in first_row.items():\n",
    "        print(f\"{key:20}: {value.__class__}\")"
   ]
  },
  {
   "attachments": {},
   "cell_type": "markdown",
   "metadata": {},
   "source": [
    "Mit der next()-Funktion wird das erste Zeilenelement aus dem Generator evaluation_reader geholt.\n",
    "Beim Iterieren über ein Dictionary werden standardmäßig nur die Schlüsselwörter zurückgegeben.\n",
    "Um zusätzlich die Werte zu erhalten, muss die items()-Funktion benutzt werden.\n",
    "Mit einem Format-String können Repräsentationen von Variablen- und Funktionswerten in Strings zusammengefasst und formatiert werden.\n",
    "Das spezielle __class__-Attribut gibt Auskunft über die Klasse einer (Variablen-)Instanz."
   ]
  },
  {
   "attachments": {},
   "cell_type": "markdown",
   "metadata": {},
   "source": [
    "### Datentypen ändern\n",
    "In unserem Beispiel wird in der letzten Spalte das Geburtsdatum der Kontakte gespeichert. Wenn wir weitere Analysen mit dieser Information machen möchten, zum Beispiel das aktuelle Alter oder das durchschnittliche Alter berechnen, ist es zielführend, das Format von str abzuändern.\n",
    "Python bietet speziell für Datums- und Zeitangaben das Modul `datetime`.\n",
    "\n"
   ]
  },
  {
   "cell_type": "code",
   "execution_count": 18,
   "metadata": {},
   "outputs": [
    {
     "name": "stdout",
     "output_type": "stream",
     "text": [
      "Today's date: 2023-07-26\n"
     ]
    }
   ],
   "source": [
    "from datetime import date\n",
    "today = date.today()\n",
    "print(f\"Today's date: {today}\")"
   ]
  },
  {
   "cell_type": "code",
   "execution_count": 22,
   "metadata": {},
   "outputs": [
    {
     "ename": "TypeError",
     "evalue": "'str' object cannot be interpreted as an integer",
     "output_type": "error",
     "traceback": [
      "\u001b[1;31m---------------------------------------------------------------------------\u001b[0m",
      "\u001b[1;31mTypeError\u001b[0m                                 Traceback (most recent call last)",
      "\u001b[1;32mc:\\Users\\jnd\\dev\\profi-in-mint-python-2023\\profi-in-mint-python\\day_1\\02_code_along_kontaktdaten.ipynb Zelle 33\u001b[0m in \u001b[0;36m<cell line: 2>\u001b[1;34m()\u001b[0m\n\u001b[0;32m      <a href='vscode-notebook-cell:/c%3A/Users/jnd/dev/profi-in-mint-python-2023/profi-in-mint-python/day_1/02_code_along_kontaktdaten.ipynb#Y100sZmlsZQ%3D%3D?line=0'>1</a>\u001b[0m date_str \u001b[39m=\u001b[39m \u001b[39m'\u001b[39m\u001b[39m03.05.1962\u001b[39m\u001b[39m'\u001b[39m\n\u001b[1;32m----> <a href='vscode-notebook-cell:/c%3A/Users/jnd/dev/profi-in-mint-python-2023/profi-in-mint-python/day_1/02_code_along_kontaktdaten.ipynb#Y100sZmlsZQ%3D%3D?line=1'>2</a>\u001b[0m date(date_str)\n",
      "\u001b[1;31mTypeError\u001b[0m: 'str' object cannot be interpreted as an integer"
     ]
    }
   ],
   "source": [
    "date_str = '03.05.1962'\n",
    "date(date_str)"
   ]
  },
  {
   "cell_type": "code",
   "execution_count": 28,
   "metadata": {},
   "outputs": [
    {
     "data": {
      "text/plain": [
       "datetime.date(1962, 5, 3)"
      ]
     },
     "execution_count": 28,
     "metadata": {},
     "output_type": "execute_result"
    }
   ],
   "source": [
    "date(int(date_str.split('.')[2]), int(date_str.split('.')[1]), int(date_str.split('.')[0]))"
   ]
  },
  {
   "cell_type": "code",
   "execution_count": 113,
   "metadata": {},
   "outputs": [],
   "source": [
    "DATE_VALUES = [\"Geburtstag\"]\n",
    "\n",
    "with open(\"data/Kontakte.csv\", encoding=\"utf-8\") as csvfile:\n",
    "    kontakt_reader = csv.DictReader(csvfile, delimiter=\",\")\n",
    "    # first_row = next(kontakt_reader)\n",
    "    for row in kontakt_reader:\n",
    "        for key in DATE_VALUES:\n",
    "            date_str_list = row[key].split('.')\n",
    "            row[key] = date(int(date_str_list[2]), int(date_str_list[1]), int(date_str_list[0]))\n",
    "        # print(f\"{row['Geburtstag']}\")"
   ]
  },
  {
   "attachments": {},
   "cell_type": "markdown",
   "metadata": {},
   "source": [
    "## 7) Erstellen einer Funktion\n",
    "Ein Codeblock kann für leichteres Wiederverwenden und bessere Verständlichkeit als Funktion definiert werden."
   ]
  },
  {
   "cell_type": "code",
   "execution_count": 33,
   "metadata": {},
   "outputs": [],
   "source": [
    "DATE_VALUES = [\"Geburtstag\"]\n",
    "\n",
    "def read_kontakt_file(file_name):\n",
    "    rows = []\n",
    "    with open(file_name, encoding=\"utf-8\") as csvfile:\n",
    "        kontakt_reader = csv.DictReader(csvfile, delimiter=\",\")\n",
    "        for row in kontakt_reader:\n",
    "            for key in DATE_VALUES:\n",
    "                date_str_list = row[key].split('.')\n",
    "                row[key] = date(int(date_str_list[2]), int(date_str_list[1]), int(date_str_list[0]))\n",
    "            rows.append(row)\n",
    "            # print(row[\"Anrede\"], row[\"Nachname\"], row[\"E-Mail\"])\n",
    "    return rows"
   ]
  },
  {
   "cell_type": "code",
   "execution_count": 34,
   "metadata": {},
   "outputs": [
    {
     "data": {
      "text/plain": [
       "{'Anrede': 'Frau',\n",
       " 'Titel': 'Dr.',\n",
       " 'Vorname': 'Emma',\n",
       " 'Nachname': 'Kambs',\n",
       " 'Adresse': 'Günter-Lange-Straße 3, 77839 Borken',\n",
       " 'Firma': 'Sorgatz',\n",
       " 'E-Mail': 'emma.kambs@sorgatz.eu',\n",
       " 'Telefon-Nr.': '+49(0) 182838907',\n",
       " 'Geburtstag': datetime.date(1975, 7, 2)}"
      ]
     },
     "execution_count": 34,
     "metadata": {},
     "output_type": "execute_result"
    }
   ],
   "source": [
    "kontakte = read_kontakt_file(\"data/Kontakte.csv\")\n",
    "kontakte[0]"
   ]
  },
  {
   "cell_type": "code",
   "execution_count": 35,
   "metadata": {},
   "outputs": [
    {
     "name": "stdout",
     "output_type": "stream",
     "text": [
      "Es sind 213 Kontakte eingetragen.\n"
     ]
    }
   ],
   "source": [
    "# Wie viele Einträge hat die Datei?\n",
    "print('Es sind ' + str(len(kontakte)) + ' Kontakte eingetragen.')"
   ]
  },
  {
   "attachments": {},
   "cell_type": "markdown",
   "metadata": {},
   "source": [
    "## 8) Auswertung der Geburtstage\n",
    "Wir möchten eine Auswertung der Geburtstage und des Alters der Teilnehmer vornehmen.\n",
    "\n",
    "a) Wie viele Teilnehmer haben im April Geburtstag?"
   ]
  },
  {
   "cell_type": "code",
   "execution_count": 59,
   "metadata": {},
   "outputs": [
    {
     "name": "stdout",
     "output_type": "stream",
     "text": [
      "19 Kontakte haben im April Geburtstag.\n"
     ]
    }
   ],
   "source": [
    "counter = 0\n",
    "for kontakt in kontakte:\n",
    "    if kontakt['Geburtstag'].month == 4:\n",
    "        counter += 1\n",
    "\n",
    "print(f\"{counter} Kontakte haben im April Geburtstag.\")"
   ]
  },
  {
   "attachments": {},
   "cell_type": "markdown",
   "metadata": {},
   "source": [
    "b) Wie hoch ist das Durchschnittsalter der Kontakte?"
   ]
  },
  {
   "cell_type": "code",
   "execution_count": 41,
   "metadata": {},
   "outputs": [
    {
     "name": "stdout",
     "output_type": "stream",
     "text": [
      "48\n"
     ]
    }
   ],
   "source": [
    "time_diff = date.today() - kontakte[0]['Geburtstag']\n",
    "alter = time_diff.days // 365\n",
    "print(alter)"
   ]
  },
  {
   "cell_type": "code",
   "execution_count": 42,
   "metadata": {},
   "outputs": [],
   "source": [
    "# Erzeuge eine Liste des aktuellen Alters der Kontakte\n",
    "today = date.today() \n",
    "list_Alter = []\n",
    "for kontakt in kontakte:\n",
    "    list_Alter.append((today - kontakt['Geburtstag']).days // 365)"
   ]
  },
  {
   "cell_type": "code",
   "execution_count": 63,
   "metadata": {},
   "outputs": [],
   "source": [
    "def get_mean(data):\n",
    "    summe = sum(data)\n",
    "    mean = summe / len(data)\n",
    "    return mean"
   ]
  },
  {
   "cell_type": "code",
   "execution_count": 66,
   "metadata": {},
   "outputs": [
    {
     "name": "stdout",
     "output_type": "stream",
     "text": [
      "Das durchschnittliche Alter der Kontakte beträgt 44 Jahre.\n"
     ]
    }
   ],
   "source": [
    "alter_durchschnitt = round(get_mean(list_Alter))\n",
    "print(f\"Das durchschnittliche Alter der Kontakte beträgt {alter_durchschnitt} Jahre.\")"
   ]
  },
  {
   "attachments": {},
   "cell_type": "markdown",
   "metadata": {},
   "source": [
    "c) Wie heißt der oder die älteste Teilnehmer/Teilnehmerin?"
   ]
  },
  {
   "cell_type": "code",
   "execution_count": 61,
   "metadata": {},
   "outputs": [
    {
     "data": {
      "text/plain": [
       "70"
      ]
     },
     "execution_count": 61,
     "metadata": {},
     "output_type": "execute_result"
    }
   ],
   "source": [
    "max(list_Alter)"
   ]
  },
  {
   "cell_type": "code",
   "execution_count": 68,
   "metadata": {},
   "outputs": [
    {
     "name": "stdout",
     "output_type": "stream",
     "text": [
      "Mit 70 Jahren ist Sofia Roskoth die älteste Person.\n"
     ]
    }
   ],
   "source": [
    "today = date.today() \n",
    "max_Alter = 0\n",
    "kontakt_alt = []\n",
    "for kontakt in kontakte:\n",
    "    if (today - kontakt['Geburtstag']).days > max_Alter:\n",
    "        max_Alter = (today - kontakt['Geburtstag']).days\n",
    "        kontakt_alt = kontakt\n",
    "\n",
    "print(f\"Mit {max_Alter//365} Jahren ist {kontakt_alt['Vorname']} {kontakt_alt['Nachname']} die älteste Person.\")"
   ]
  },
  {
   "attachments": {},
   "cell_type": "markdown",
   "metadata": {},
   "source": [
    "### Diskussion und Anregungen\n",
    "Ideen für weitere Analysen und Übungen:\n",
    "- Telefonnummern sind nicht einheitlich formatiert. Das kann zu Fehlern führen! Wie kann dies behoben werden?\n",
    "- Überprüfen von ungültigen Einträgen bei der Postleitzahl"
   ]
  },
  {
   "attachments": {},
   "cell_type": "markdown",
   "metadata": {},
   "source": [
    "---\n",
    "# Übungen\n",
    "---"
   ]
  },
  {
   "attachments": {},
   "cell_type": "markdown",
   "metadata": {},
   "source": [
    "## Übung 1\n",
    "### Aufgabe 1"
   ]
  },
  {
   "cell_type": "code",
   "execution_count": null,
   "metadata": {},
   "outputs": [],
   "source": []
  },
  {
   "attachments": {},
   "cell_type": "markdown",
   "metadata": {},
   "source": [
    "### Aufgabe 2"
   ]
  },
  {
   "cell_type": "code",
   "execution_count": null,
   "metadata": {},
   "outputs": [],
   "source": []
  },
  {
   "cell_type": "code",
   "execution_count": null,
   "metadata": {},
   "outputs": [],
   "source": []
  },
  {
   "attachments": {},
   "cell_type": "markdown",
   "metadata": {},
   "source": [
    "### Aufgabe 3"
   ]
  },
  {
   "cell_type": "code",
   "execution_count": null,
   "metadata": {},
   "outputs": [],
   "source": []
  },
  {
   "attachments": {},
   "cell_type": "markdown",
   "metadata": {},
   "source": [
    "## Übung 2\n",
    "### Aufgabe 1"
   ]
  },
  {
   "cell_type": "code",
   "execution_count": null,
   "metadata": {},
   "outputs": [],
   "source": []
  },
  {
   "attachments": {},
   "cell_type": "markdown",
   "metadata": {},
   "source": [
    "### Aufgabe 2"
   ]
  },
  {
   "cell_type": "code",
   "execution_count": null,
   "metadata": {},
   "outputs": [],
   "source": []
  },
  {
   "cell_type": "code",
   "execution_count": null,
   "metadata": {},
   "outputs": [],
   "source": []
  },
  {
   "attachments": {},
   "cell_type": "markdown",
   "metadata": {},
   "source": [
    "### Aufgabe 3"
   ]
  },
  {
   "cell_type": "code",
   "execution_count": null,
   "metadata": {},
   "outputs": [],
   "source": []
  },
  {
   "attachments": {},
   "cell_type": "markdown",
   "metadata": {},
   "source": [
    "### Aufgabe 4"
   ]
  },
  {
   "cell_type": "code",
   "execution_count": null,
   "metadata": {},
   "outputs": [],
   "source": []
  },
  {
   "attachments": {},
   "cell_type": "markdown",
   "metadata": {},
   "source": [
    "## Übung 3\n",
    "### Aufgabe 1"
   ]
  },
  {
   "cell_type": "code",
   "execution_count": null,
   "metadata": {},
   "outputs": [],
   "source": []
  },
  {
   "cell_type": "code",
   "execution_count": 103,
   "metadata": {},
   "outputs": [
    {
     "name": "stdout",
     "output_type": "stream",
     "text": [
      "['Anrede', 'Titel', 'Vorname', 'Nachname', 'Adresse', 'Firma', 'E-Mail', 'Telefon-Nr.', 'Geburtstag\\n']\n"
     ]
    }
   ],
   "source": [
    "print(fieldnames)"
   ]
  },
  {
   "cell_type": "code",
   "execution_count": null,
   "metadata": {},
   "outputs": [],
   "source": []
  },
  {
   "attachments": {},
   "cell_type": "markdown",
   "metadata": {},
   "source": [
    "### Aufgabe 2"
   ]
  },
  {
   "cell_type": "code",
   "execution_count": null,
   "metadata": {},
   "outputs": [],
   "source": []
  },
  {
   "attachments": {},
   "cell_type": "markdown",
   "metadata": {},
   "source": [
    "### Aufgabe 3"
   ]
  },
  {
   "cell_type": "code",
   "execution_count": null,
   "metadata": {},
   "outputs": [],
   "source": []
  },
  {
   "cell_type": "code",
   "execution_count": 98,
   "metadata": {},
   "outputs": [
    {
     "name": "stdout",
     "output_type": "stream",
     "text": [
      "{'Titel': 'Dr.', 'Adresse': 'Günter-Lange-Straße 3, 77839 Borken', 'Firma': 'Sorgatz', 'Telefon-Nr.': '+49(0) 182838907', 'Geburtstag': datetime.date(1975, 7, 2)}\n"
     ]
    }
   ],
   "source": [
    "print(my_dict)"
   ]
  },
  {
   "attachments": {},
   "cell_type": "markdown",
   "metadata": {},
   "source": [
    "### Aufgabe 4"
   ]
  },
  {
   "cell_type": "code",
   "execution_count": null,
   "metadata": {},
   "outputs": [],
   "source": []
  }
 ],
 "metadata": {
  "kernelspec": {
   "display_name": "env-data-science",
   "language": "python",
   "name": "python3"
  },
  "language_info": {
   "codemirror_mode": {
    "name": "ipython",
    "version": 3
   },
   "file_extension": ".py",
   "mimetype": "text/x-python",
   "name": "python",
   "nbconvert_exporter": "python",
   "pygments_lexer": "ipython3",
   "version": "3.10.2"
  },
  "orig_nbformat": 4,
  "vscode": {
   "interpreter": {
    "hash": "71cc2d0b8e68bbc03574d93540c373f4f169b161eb0c3cd3a9c85438aed10b11"
   }
  }
 },
 "nbformat": 4,
 "nbformat_minor": 2
}
