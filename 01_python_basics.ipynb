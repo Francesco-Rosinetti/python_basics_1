{
 "cells": [
  {
   "attachments": {},
   "cell_type": "markdown",
   "metadata": {},
   "source": [
    "# Python Basics"
   ]
  },
  {
   "attachments": {},
   "cell_type": "markdown",
   "metadata": {},
   "source": [
    "## Warum Python?\n",
    "### Einfachheit & Übersichtlichkeit\n",
    "\n",
    "-   Leicht zu erlernen\n",
    "-   Gute Lesbarkeit und klare Syntax\n",
    "-   In den gängigen Betriebssystemen interpretierbar\n",
    "-   mächtig: kommt mit weniger Code als andere Programmiersprachen zu\n",
    "    gleichen Ergebnissen\n",
    "-   Multiparadigmensprache"
   ]
  },
  {
   "attachments": {},
   "cell_type": "markdown",
   "metadata": {},
   "source": [
    "### Standardbibliothek\n",
    "\n",
    "Große [Standardbibliothek](https://docs.python.org/3/library/), z.B.\n",
    "\n",
    "-   Internetanwendungen\n",
    "-   Erstellen grafischer Benutzeroberflächen\n",
    "-   Verbinden mit relationalen Datenbanken\n",
    "-   Generieren von Pseudozufallszahlen\n",
    "-   Rechnen mit beliebig genauen Dezimalzahlen\n",
    "-   Manipulieren regulärer Ausdrücke\n",
    "-   Unit testing"
   ]
  },
  {
   "attachments": {},
   "cell_type": "markdown",
   "metadata": {},
   "source": [
    "## Programmierparadigmen\n",
    "\n",
    "-   Objektorientierte Programmierparadigmen\n",
    "-   Verfahrensorientierte Programmierparadigmen\n",
    "-   Funktionsprogrammierparadigmen"
   ]
  },
  {
   "attachments": {},
   "cell_type": "markdown",
   "metadata": {},
   "source": [
    "---------------\n",
    "Die folgenden Kapitel sind ein Auszug aus dem offiziellen [Python Tutorial](https://docs.python.org/3/tutorial/index.html).\n",
    "\n",
    "# Datentypen und Strukturen"
   ]
  },
  {
   "attachments": {},
   "cell_type": "markdown",
   "metadata": {},
   "source": [
    "## Grundlegende Datentypen\n",
    "\n",
    "-   Boolean -- boolesche Werte\n",
    "-   Numerische Typen\n",
    "    -   `int` -- ganze Zahlen\n",
    "    -   `float` -- Fließkommazahlen\n",
    "    -   `complex` -- komplexe Zahlen"
   ]
  },
  {
   "cell_type": "code",
   "execution_count": 6,
   "metadata": {},
   "outputs": [],
   "source": [
    "# Kommentarzeilen werden mit # erstellt\n",
    "'''Längere Kommentartexte können in dreifachen Anführungszeichen erstellt werden'''\n",
    "\n",
    "is_friday = True\n",
    "\n",
    "number_of_participants = 5\n",
    "temperature = 22.125 # Degrees Celsius\n",
    "my_complex_num = complex('1+2j')"
   ]
  },
  {
   "attachments": {},
   "cell_type": "markdown",
   "metadata": {},
   "source": [
    "## Sammeltypen\n",
    "\n",
    "-   Sequenzen\n",
    "    -   `list` -- Sammlung von Elementen\n",
    "    -   `tuple` -- wie Listen, aber unveränderlich\n",
    "    -   `range` -- unveränderliche Sequenz von Zahlen\n",
    "-   `str` -- Listen von Zeichen (unveränderlich)\n",
    "-   `dict` -- Abbildungen von Schlüssel auf Werte"
   ]
  },
  {
   "cell_type": "code",
   "execution_count": 7,
   "metadata": {},
   "outputs": [],
   "source": [
    "shopping_list = [\"milk\", \"sugar\", \"eggs\"]\n",
    "rgb_colors = (\"red\", \"green\", \"blue\")\n",
    "zero_to_nine = range(10)\n",
    "name = \"Tim\"\n",
    "secret_identities = {\"Superman\": \"Clark Kent\", \"Spiderman\": \"Peter Parker\"}"
   ]
  },
  {
   "attachments": {},
   "cell_type": "markdown",
   "metadata": {},
   "source": [
    "Für speziellere Anwendungen gibt es außerdem:\n",
    "-   Binäre Sequenzen\n",
    "    -   `bytes`\n",
    "    -   `bytearray`\n",
    "    -   `memoryview`\n",
    "-   Mengen -- ungeordnete Sammlung von Elementen\n",
    "    -   `set`\n",
    "    -   `frozenset` -- unveränderlich"
   ]
  },
  {
   "attachments": {},
   "cell_type": "markdown",
   "metadata": {},
   "source": [
    "### Listen\n",
    "**Listen** werden in den meisten anderen Programmiersprachen *Arrays* genannt. Sie gruppieren verschiedene Datentypen."
   ]
  },
  {
   "cell_type": "code",
   "execution_count": 8,
   "metadata": {},
   "outputs": [
    {
     "data": {
      "text/plain": [
       "[]"
      ]
     },
     "execution_count": 8,
     "metadata": {},
     "output_type": "execute_result"
    }
   ],
   "source": [
    "empty_list = []\n",
    "empty_list"
   ]
  },
  {
   "cell_type": "code",
   "execution_count": 9,
   "metadata": {},
   "outputs": [
    {
     "data": {
      "text/plain": [
       "[-3, 42, 5]"
      ]
     },
     "execution_count": 9,
     "metadata": {},
     "output_type": "execute_result"
    }
   ],
   "source": [
    "int_list = [-3, 42, 5]\n",
    "int_list"
   ]
  },
  {
   "cell_type": "code",
   "execution_count": 19,
   "metadata": {},
   "outputs": [
    {
     "data": {
      "text/plain": [
       "list"
      ]
     },
     "execution_count": 19,
     "metadata": {},
     "output_type": "execute_result"
    }
   ],
   "source": [
    "# Datentyp einer Variable abfragen:\n",
    "type(int_list)"
   ]
  },
  {
   "cell_type": "code",
   "execution_count": 10,
   "metadata": {},
   "outputs": [
    {
     "data": {
      "text/plain": [
       "['red', 'green', 'blue']"
      ]
     },
     "execution_count": 10,
     "metadata": {},
     "output_type": "execute_result"
    }
   ],
   "source": [
    "color_list = [\"red\", \"green\", \"blue\"]\n",
    "color_list"
   ]
  },
  {
   "cell_type": "code",
   "execution_count": 11,
   "metadata": {},
   "outputs": [
    {
     "data": {
      "text/plain": [
       "['Hello World!', True, [0, 8, 15]]"
      ]
     },
     "execution_count": 11,
     "metadata": {},
     "output_type": "execute_result"
    }
   ],
   "source": [
    "mixed_list = [\"Hello World!\", True, [0, 8, 15]]\n",
    "mixed_list"
   ]
  },
  {
   "cell_type": "code",
   "execution_count": 20,
   "metadata": {},
   "outputs": [
    {
     "data": {
      "text/plain": [
       "'red'"
      ]
     },
     "execution_count": 20,
     "metadata": {},
     "output_type": "execute_result"
    }
   ],
   "source": [
    "# erstes Element\n",
    "color_list[0]"
   ]
  },
  {
   "cell_type": "code",
   "execution_count": 21,
   "metadata": {},
   "outputs": [
    {
     "data": {
      "text/plain": [
       "'blue'"
      ]
     },
     "execution_count": 21,
     "metadata": {},
     "output_type": "execute_result"
    }
   ],
   "source": [
    "# letztes Element\n",
    "color_list[-1]"
   ]
  },
  {
   "cell_type": "code",
   "execution_count": 22,
   "metadata": {},
   "outputs": [
    {
     "data": {
      "text/plain": [
       "True"
      ]
     },
     "execution_count": 22,
     "metadata": {},
     "output_type": "execute_result"
    }
   ],
   "source": [
    "color_list[-1] == color_list[2]"
   ]
  },
  {
   "cell_type": "code",
   "execution_count": 23,
   "metadata": {},
   "outputs": [
    {
     "data": {
      "text/plain": [
       "['red', 'green']"
      ]
     },
     "execution_count": 23,
     "metadata": {},
     "output_type": "execute_result"
    }
   ],
   "source": [
    "preferred_apple_colors = color_list[0:2]\n",
    "preferred_apple_colors"
   ]
  },
  {
   "cell_type": "code",
   "execution_count": 24,
   "metadata": {},
   "outputs": [
    {
     "data": {
      "text/plain": [
       "15"
      ]
     },
     "execution_count": 24,
     "metadata": {},
     "output_type": "execute_result"
    }
   ],
   "source": [
    "mixed_list[2][2]"
   ]
  },
  {
   "cell_type": "code",
   "execution_count": 25,
   "metadata": {},
   "outputs": [
    {
     "data": {
      "text/plain": [
       "['red', 'green', 'brown', 'black']"
      ]
     },
     "execution_count": 25,
     "metadata": {},
     "output_type": "execute_result"
    }
   ],
   "source": [
    "# ----- Operatoren ------------\n",
    "bad_apple_colors = [\"brown\", \"black\"]\n",
    "apple_colors = preferred_apple_colors + bad_apple_colors\n",
    "apple_colors"
   ]
  },
  {
   "attachments": {},
   "cell_type": "markdown",
   "metadata": {},
   "source": [
    "--> *Lists* werden durch Addition verkettet"
   ]
  },
  {
   "cell_type": "code",
   "execution_count": 26,
   "metadata": {},
   "outputs": [
    {
     "data": {
      "text/plain": [
       "4"
      ]
     },
     "execution_count": 26,
     "metadata": {},
     "output_type": "execute_result"
    }
   ],
   "source": [
    "# ----- Funktionen ------------\n",
    "len(apple_colors) # Ausgabe der Länge einer list"
   ]
  },
  {
   "cell_type": "code",
   "execution_count": 27,
   "metadata": {},
   "outputs": [
    {
     "data": {
      "text/plain": [
       "['red', 'green', 'brown', 'black', 'yellow']"
      ]
     },
     "execution_count": 27,
     "metadata": {},
     "output_type": "execute_result"
    }
   ],
   "source": [
    "# ----- Datentyp-Methoden -----\n",
    "apple_colors.append(\"yellow\")\n",
    "apple_colors\n"
   ]
  },
  {
   "cell_type": "code",
   "execution_count": 31,
   "metadata": {},
   "outputs": [
    {
     "data": {
      "text/plain": [
       "['black', 'brown', 'green', 'red']"
      ]
     },
     "execution_count": 31,
     "metadata": {},
     "output_type": "execute_result"
    }
   ],
   "source": [
    "apple_colors.sort()\n",
    "apple_colors"
   ]
  },
  {
   "cell_type": "code",
   "execution_count": 32,
   "metadata": {},
   "outputs": [
    {
     "data": {
      "text/plain": [
       "'red'"
      ]
     },
     "execution_count": 32,
     "metadata": {},
     "output_type": "execute_result"
    }
   ],
   "source": [
    "apple_colors.pop()"
   ]
  },
  {
   "cell_type": "code",
   "execution_count": 33,
   "metadata": {},
   "outputs": [
    {
     "data": {
      "text/plain": [
       "['black', 'brown', 'green']"
      ]
     },
     "execution_count": 33,
     "metadata": {},
     "output_type": "execute_result"
    }
   ],
   "source": [
    "apple_colors"
   ]
  },
  {
   "attachments": {},
   "cell_type": "markdown",
   "metadata": {},
   "source": [
    "### Tupel\n",
    "**Tupel** sind ähnlich wie Listen, jedoch können sie nach dem Erstellen nicht verändert werden."
   ]
  },
  {
   "cell_type": "code",
   "execution_count": 34,
   "metadata": {},
   "outputs": [
    {
     "data": {
      "text/plain": [
       "'Tuesday'"
      ]
     },
     "execution_count": 34,
     "metadata": {},
     "output_type": "execute_result"
    }
   ],
   "source": [
    "weekdays = (\"Monday\", \"Tuesday\", \"Wednesday\", \"Thursday\", \"Friday\", \"Saturday\", \"Sunday\")\n",
    "weekdays[1]"
   ]
  },
  {
   "cell_type": "code",
   "execution_count": 46,
   "metadata": {},
   "outputs": [
    {
     "data": {
      "text/plain": [
       "4"
      ]
     },
     "execution_count": 46,
     "metadata": {},
     "output_type": "execute_result"
    }
   ],
   "source": [
    "# ----- Operatoren ------------\n",
    "default_traffic_light_colors = (\"red\", \"yellow\", \"green\")\n",
    "extra_traffic_light_colors = (\"blinking yellow\",)\n",
    "traffic_light_colors = default_traffic_light_colors + extra_traffic_light_colors\n",
    "len(traffic_light_colors)"
   ]
  },
  {
   "cell_type": "code",
   "execution_count": 41,
   "metadata": {},
   "outputs": [
    {
     "data": {
      "text/plain": [
       "tuple"
      ]
     },
     "execution_count": 41,
     "metadata": {},
     "output_type": "execute_result"
    }
   ],
   "source": [
    "extra_traffic_light_colors = (\"blinking yellow\",)\n",
    "type(extra_traffic_light_colors)"
   ]
  },
  {
   "cell_type": "code",
   "execution_count": 47,
   "metadata": {},
   "outputs": [
    {
     "data": {
      "text/plain": [
       "['red', 'yellow', 'green', 'blinking yellow']"
      ]
     },
     "execution_count": 47,
     "metadata": {},
     "output_type": "execute_result"
    }
   ],
   "source": [
    "# ----- Funktionen ------------\n",
    "list(traffic_light_colors)"
   ]
  },
  {
   "cell_type": "code",
   "execution_count": 48,
   "metadata": {},
   "outputs": [
    {
     "ename": "AttributeError",
     "evalue": "'tuple' object has no attribute 'append'",
     "output_type": "error",
     "traceback": [
      "\u001b[1;31m---------------------------------------------------------------------------\u001b[0m",
      "\u001b[1;31mAttributeError\u001b[0m                            Traceback (most recent call last)",
      "\u001b[1;32mc:\\Users\\jnd\\dev\\profi-in-mint-python\\day_1\\01_python_basics.ipynb Zelle 34\u001b[0m in \u001b[0;36m<cell line: 3>\u001b[1;34m()\u001b[0m\n\u001b[0;32m      <a href='vscode-notebook-cell:/c%3A/Users/jnd/dev/profi-in-mint-python/day_1/01_python_basics.ipynb#X54sZmlsZQ%3D%3D?line=0'>1</a>\u001b[0m \u001b[39m# ----- Datentyp-Methoden -----\u001b[39;00m\n\u001b[0;32m      <a href='vscode-notebook-cell:/c%3A/Users/jnd/dev/profi-in-mint-python/day_1/01_python_basics.ipynb#X54sZmlsZQ%3D%3D?line=1'>2</a>\u001b[0m things_you_can_append_something_to \u001b[39m=\u001b[39m (\u001b[39m\"\u001b[39m\u001b[39mlists\u001b[39m\u001b[39m\"\u001b[39m,)\n\u001b[1;32m----> <a href='vscode-notebook-cell:/c%3A/Users/jnd/dev/profi-in-mint-python/day_1/01_python_basics.ipynb#X54sZmlsZQ%3D%3D?line=2'>3</a>\u001b[0m things_you_can_append_something_to\u001b[39m.\u001b[39;49mappend(\u001b[39m\"\u001b[39m\u001b[39mtuples\u001b[39m\u001b[39m\"\u001b[39m)\n",
      "\u001b[1;31mAttributeError\u001b[0m: 'tuple' object has no attribute 'append'"
     ]
    }
   ],
   "source": [
    "# ----- Datentyp-Methoden -----\n",
    "things_you_can_append_something_to = (\"lists\",)\n",
    "things_you_can_append_something_to.append(\"tuples\")"
   ]
  },
  {
   "attachments": {},
   "cell_type": "markdown",
   "metadata": {},
   "source": [
    "### Strings\n",
    "\n",
    "**Strings** sind Zeichenketten, die mit einfachen oder doppelten Anführungszeichen gekennzeichnet werden.\n",
    "\n",
    "Das letzte Statement `f\"Hello {name}!\"` ist ein formatierter String (f-string, Formatted String Literal). [Mehr Infos dazu in der Python Dokumentation](https://docs.python.org/3/tutorial/inputoutput.html#formatted-string-literals)."
   ]
  },
  {
   "cell_type": "code",
   "execution_count": 49,
   "metadata": {},
   "outputs": [
    {
     "data": {
      "text/plain": [
       "'Hello!'"
      ]
     },
     "execution_count": 49,
     "metadata": {},
     "output_type": "execute_result"
    }
   ],
   "source": [
    "greeting = \"Hello!\"\n",
    "greeting"
   ]
  },
  {
   "cell_type": "code",
   "execution_count": 50,
   "metadata": {},
   "outputs": [
    {
     "data": {
      "text/plain": [
       "\"What's up?\""
      ]
     },
     "execution_count": 50,
     "metadata": {},
     "output_type": "execute_result"
    }
   ],
   "source": [
    "escaped = 'What\\'s up?'\n",
    "escaped"
   ]
  },
  {
   "cell_type": "code",
   "execution_count": 51,
   "metadata": {},
   "outputs": [
    {
     "data": {
      "text/plain": [
       "'Hello World!'"
      ]
     },
     "execution_count": 51,
     "metadata": {},
     "output_type": "execute_result"
    }
   ],
   "source": [
    "# ----- Operatoren ------------\n",
    "\"Hello\" + \" \" + \"World\" + \"!\""
   ]
  },
  {
   "cell_type": "code",
   "execution_count": 52,
   "metadata": {},
   "outputs": [
    {
     "data": {
      "text/plain": [
       "5"
      ]
     },
     "execution_count": 52,
     "metadata": {},
     "output_type": "execute_result"
    }
   ],
   "source": [
    "# ----- Funktionen ------------\n",
    "len(\"Hello\")"
   ]
  },
  {
   "cell_type": "code",
   "execution_count": 53,
   "metadata": {},
   "outputs": [
    {
     "data": {
      "text/plain": [
       "'hello'"
      ]
     },
     "execution_count": 53,
     "metadata": {},
     "output_type": "execute_result"
    }
   ],
   "source": [
    "# ----- Datentyp-Methoden -----\n",
    "\"Hello\".lower()"
   ]
  },
  {
   "cell_type": "code",
   "execution_count": 54,
   "metadata": {},
   "outputs": [
    {
     "data": {
      "text/plain": [
       "'HELLO'"
      ]
     },
     "execution_count": 54,
     "metadata": {},
     "output_type": "execute_result"
    }
   ],
   "source": [
    "\"Hello\".upper()"
   ]
  },
  {
   "cell_type": "code",
   "execution_count": 55,
   "metadata": {},
   "outputs": [
    {
     "data": {
      "text/plain": [
       "'Hello'"
      ]
     },
     "execution_count": 55,
     "metadata": {},
     "output_type": "execute_result"
    }
   ],
   "source": [
    "\"           Hello       \".strip()"
   ]
  },
  {
   "cell_type": "code",
   "execution_count": 56,
   "metadata": {},
   "outputs": [
    {
     "data": {
      "text/plain": [
       "'Hello World!'"
      ]
     },
     "execution_count": 56,
     "metadata": {},
     "output_type": "execute_result"
    }
   ],
   "source": [
    "\"Hello {}!\".format(\"World\")"
   ]
  },
  {
   "cell_type": "code",
   "execution_count": 57,
   "metadata": {},
   "outputs": [
    {
     "data": {
      "text/plain": [
       "'Hello Bob!'"
      ]
     },
     "execution_count": 57,
     "metadata": {},
     "output_type": "execute_result"
    }
   ],
   "source": [
    "name = \"Bob\"\n",
    "f\"Hello {name}!\""
   ]
  },
  {
   "attachments": {},
   "cell_type": "markdown",
   "metadata": {},
   "source": [
    "### Dictionary\n",
    "\n",
    "**Dictionaries** sind eine Art assoziatives Array, die mit Hash-Tables aus unsortierten Key-Value-Paaren umgesetzt werden."
   ]
  },
  {
   "cell_type": "code",
   "execution_count": 60,
   "metadata": {},
   "outputs": [
    {
     "data": {
      "text/plain": [
       "'Bayreuth'"
      ]
     },
     "execution_count": 60,
     "metadata": {},
     "output_type": "execute_result"
    }
   ],
   "source": [
    "lup_address = {\n",
    "    \"street\": \"Universitätsstr.\",\n",
    "    \"street_number\": \"30\",\n",
    "    \"postal_code\": \"95447\",\n",
    "    \"city\": \"Bayreuth\",\n",
    "}\n",
    "\n",
    "lup_address[\"city\"]"
   ]
  },
  {
   "attachments": {},
   "cell_type": "markdown",
   "metadata": {},
   "source": [
    "## Dynamische Typisierung"
   ]
  },
  {
   "cell_type": "code",
   "execution_count": 61,
   "metadata": {},
   "outputs": [],
   "source": [
    "my_dynamic_variable = \"foo\"\n",
    "my_dynamic_variable = 42\n",
    "my_dynamic_variable = 3.14159265359\n",
    "my_dynamic_variable = [\"foo\", 42, my_dynamic_variable]"
   ]
  },
  {
   "attachments": {},
   "cell_type": "markdown",
   "metadata": {},
   "source": [
    "Mit der Typisierung werden Variablen oder Konstanten in\n",
    "Programmiersprachen bestimmte Type-Eigenschaften innerhalb des\n",
    "Computer-Systems zugewiesen. In der Informatik verstehen Programmierer\n",
    "unter Typisierung die Zuweisung eines Objekts zu einem Datentyp.\n",
    "\n",
    "Ein wesentliches Ziel von Typisierung in Programmiersprachen ist die\n",
    "Vermeidung von Laufzeitfehlern.\n",
    "\n",
    "Python ist ein dynamisch typisierte Sprache. Bei dynamisch typisierten\n",
    "Sprachen kann der Datentyp einer Variable von Codezeile zu Codezeile\n",
    "variieren, sodass eine entsprechende Prüfung durch den Compiler\n",
    "schwierig ist. Dafür kann mit diesen Sprachen etwas kompakter\n",
    "programmiert werden, da die Typdeklarationen entfallen."
   ]
  },
  {
   "attachments": {},
   "cell_type": "markdown",
   "metadata": {},
   "source": [
    "# Programmfluss\n",
    "Kontrollstrukturen sind klassische Anwendungen von logischen oder\n",
    "vergleichenden Operatoren und spezielle Anweisungsschritte in einer\n",
    "Programmiersprache, mit denen ein Programmierer Entscheidungen über den\n",
    "weiteren Ablauf eines Programms oder Skripts vorgeben kann, wenn\n",
    "bestimmte Bedingungen eintreten. Das nennt man den *Programmfluss*. Es\n",
    "gibt in der Regel drei Arten von Kontrollflussanweisungen:\n",
    "\n",
    "-   Entscheidungsanweisungen: Diese suchen auf Grund einer Bedingung\n",
    "    einen Programmfluss heraus. Man spricht hier auch von einem Zweig,\n",
    "    denn der Programmfluss verzweigt in verschiedene Varianten.\n",
    "    -   Über die if-Kontrollstruktur entscheiden Sie, ob eine\n",
    "        nachfolgende Anweisung oder ein Block auszuführen ist.\n",
    "        Allgemeine Syntax ist folgende: `if <Bedingung>: <Anweisung A>`\n",
    "    -   Natürlich gibt es auch die Möglichkeit eines alternativen\n",
    "        Programmflusses. Dieser wird mit `else` eingeleitet:\n",
    "        `if <Bedingung>: <Anweisung A> else <Alternative Anweisung>`\n",
    "-   Schleifen beziehungsweise Iterationsanweisungen: Diese wiederholen\n",
    "    eine bestimmte Anzahl an Anweisungen so lange, bis ein\n",
    "    Abbruchkriterium erfüllt ist.\n",
    "    -   Die while-Schleife\n",
    "    -   Die for-Schleife\n",
    "-   Sprunganweisungen. Diese verlassen eine Struktur und führen dazu,\n",
    "    dass mit der direkten Anweisung hinter der syntaktischen Struktur\n",
    "    (Schleifen)weitergemacht wird. Eine Schleife wird beendet, wenn die\n",
    "    überprüfte Bedingung nicht mehr erfüllt ist.\n",
    "    -   break: Die Anweisung `break` verlässt eine Syntaxstruktur\n",
    "        sofort, wenn diese Stelle im Quelltext erreicht wird"
   ]
  },
  {
   "attachments": {},
   "cell_type": "markdown",
   "metadata": {},
   "source": [
    "## Schleifen"
   ]
  },
  {
   "attachments": {},
   "cell_type": "markdown",
   "metadata": {},
   "source": [
    "### `while`"
   ]
  },
  {
   "cell_type": "code",
   "execution_count": 1,
   "metadata": {},
   "outputs": [
    {
     "name": "stdout",
     "output_type": "stream",
     "text": [
      "0\n",
      "1\n",
      "2\n",
      "3\n",
      "4\n",
      "5\n",
      "6\n",
      "7\n",
      "8\n",
      "9\n"
     ]
    }
   ],
   "source": [
    "j = 0\n",
    "i = 9\n",
    "while True:\n",
    "    print(j)\n",
    "    if j == i:\n",
    "        break\n",
    "    else:\n",
    "        j = j + 1"
   ]
  },
  {
   "cell_type": "code",
   "execution_count": 1,
   "metadata": {},
   "outputs": [
    {
     "name": "stdout",
     "output_type": "stream",
     "text": [
      "Hello Markus!\n",
      "Hello Anna!\n",
      "Hello Tim!\n"
     ]
    }
   ],
   "source": [
    "names = [\"Markus\", \"Anna\", \"Tim\"]\n",
    "counter = 0\n",
    "\n",
    "while counter < len(names):\n",
    "    name = names[counter]\n",
    "    print(f\"Hello {name}!\")\n",
    "    counter = counter + 1"
   ]
  },
  {
   "attachments": {},
   "cell_type": "markdown",
   "metadata": {},
   "source": [
    "### `for`"
   ]
  },
  {
   "cell_type": "code",
   "execution_count": 62,
   "metadata": {},
   "outputs": [
    {
     "name": "stdout",
     "output_type": "stream",
     "text": [
      "0\n",
      "1\n",
      "2\n",
      "3\n",
      "4\n"
     ]
    }
   ],
   "source": [
    "for i in range(5):\n",
    "    print(i)"
   ]
  },
  {
   "cell_type": "code",
   "execution_count": 66,
   "metadata": {},
   "outputs": [
    {
     "name": "stdout",
     "output_type": "stream",
     "text": [
      "Hello Markus!\n",
      "Hello Jonas!\n",
      "Hello Tim!\n"
     ]
    }
   ],
   "source": [
    "for i in range(len(names)):\n",
    "    name = names[i]\n",
    "    print(f\"Hello {name}!\")"
   ]
  },
  {
   "cell_type": "code",
   "execution_count": 67,
   "metadata": {},
   "outputs": [
    {
     "name": "stdout",
     "output_type": "stream",
     "text": [
      "Hello Markus!\n",
      "Hello Jonas!\n",
      "Hello Tim!\n"
     ]
    }
   ],
   "source": [
    "for name in names:\n",
    "    print(f\"Hello {name}!\")"
   ]
  },
  {
   "attachments": {},
   "cell_type": "markdown",
   "metadata": {},
   "source": [
    "## Bedingungen"
   ]
  },
  {
   "cell_type": "code",
   "execution_count": 75,
   "metadata": {},
   "outputs": [
    {
     "name": "stdout",
     "output_type": "stream",
     "text": [
      "Hallo!\n"
     ]
    }
   ],
   "source": [
    "weekdays = (\n",
    "    \"Montag\", \"Dienstag\", \"Mittwoch\", \"Donnerstag\",\n",
    "    \"Freitag\", \"Samstag\", \"Sonntag\"\n",
    ")\n",
    "\n",
    "today = \"Donnerstag\"\n",
    "\n",
    "if today not in weekdays:\n",
    "    print(f'\"{today}\" ist kein Wochentag!')\n",
    "elif weekdays.index(today) > 4:\n",
    "    print(\"Schönes Wochendende!\")\n",
    "elif today == \"Montag\":\n",
    "    print(\"Guten Start in die Woche!\")\n",
    "else:\n",
    "    print(\"Hallo!\")"
   ]
  },
  {
   "attachments": {},
   "cell_type": "markdown",
   "metadata": {},
   "source": [
    "## Funktionen\n",
    "\n",
    "Funktionsdefinitionen werden mit dem Schlüsselwort `def` eingeleitet. Sie erhalten *Parameter* in runden Klammern. Der Funktionsblock ist eingerückt. Mit `return` kann ein Wert zurückgegeben werden.\n",
    "\n",
    "### Beispiel: Funktion zur Berechnung des euklidischen Abstands"
   ]
  },
  {
   "cell_type": "code",
   "execution_count": 76,
   "metadata": {},
   "outputs": [
    {
     "data": {
      "text/plain": [
       "2.8284271247461903"
      ]
     },
     "execution_count": 76,
     "metadata": {},
     "output_type": "execute_result"
    }
   ],
   "source": [
    "import math\n",
    "\n",
    "def euclidean_dist(point_a, point_b):\n",
    "    ''' Returns the euclidean distance between two points of arbitrary dimensions. '''\n",
    "    min_dim = min(len(point_a), len(point_b))\n",
    "    sum = 0\n",
    "    for i in range(min_dim):\n",
    "        sum += math.pow(point_a[i] - point_b[i], 2)\n",
    "    return math.sqrt(sum)\n",
    "\n",
    "euclidean_dist((1, 2), (3, 4))"
   ]
  },
  {
   "attachments": {},
   "cell_type": "markdown",
   "metadata": {},
   "source": [
    "### Beispiel: Standardwerte für Parameter"
   ]
  },
  {
   "cell_type": "code",
   "execution_count": 79,
   "metadata": {},
   "outputs": [
    {
     "data": {
      "text/plain": [
       "1.4142135623730951"
      ]
     },
     "execution_count": 79,
     "metadata": {},
     "output_type": "execute_result"
    }
   ],
   "source": [
    "import math\n",
    "\n",
    "def euclidean_dist(point_a, point_b=(0,0), round_digits=-1):\n",
    "    ''' Returns the euclidean distance between two points of arbitrary dimensions. '''\n",
    "    min_dim = min(len(point_a), len(point_b))\n",
    "    sum = 0\n",
    "    for i in range(min_dim):\n",
    "        sum += math.pow(point_a[i] - point_b[i], 2)\n",
    "    dist = math.sqrt(sum)\n",
    "    if round_digits > -1:\n",
    "        return round(dist, round_digits)\n",
    "    return dist\n",
    "\n",
    "euclidean_dist((1, 1))"
   ]
  },
  {
   "attachments": {},
   "cell_type": "markdown",
   "metadata": {},
   "source": [
    "# Module\n",
    "\n",
    "Eine Python-Datei (z.B. `hello_world.py`) heißt *Modul*. Sie kann in anderen Modulen oder in der Interactive Shell auf verschiedene Arten aufgerufen bzw. eingebunden werden.\n",
    "\n",
    "## Import"
   ]
  },
  {
   "cell_type": "code",
   "execution_count": 80,
   "metadata": {},
   "outputs": [
    {
     "data": {
      "text/plain": [
       "5.0"
      ]
     },
     "execution_count": 80,
     "metadata": {},
     "output_type": "execute_result"
    }
   ],
   "source": [
    "import math\n",
    "math.sqrt(25)"
   ]
  },
  {
   "cell_type": "code",
   "execution_count": 81,
   "metadata": {},
   "outputs": [
    {
     "data": {
      "text/plain": [
       "-1.0"
      ]
     },
     "execution_count": 81,
     "metadata": {},
     "output_type": "execute_result"
    }
   ],
   "source": [
    "math.cos(math.pi)"
   ]
  },
  {
   "attachments": {},
   "cell_type": "markdown",
   "metadata": {},
   "source": [
    "### Import mit Umbenennen"
   ]
  },
  {
   "cell_type": "code",
   "execution_count": 82,
   "metadata": {},
   "outputs": [
    {
     "data": {
      "text/plain": [
       "5.0"
      ]
     },
     "execution_count": 82,
     "metadata": {},
     "output_type": "execute_result"
    }
   ],
   "source": [
    "import math as m\n",
    "m.sqrt(25)"
   ]
  },
  {
   "attachments": {},
   "cell_type": "markdown",
   "metadata": {},
   "source": [
    "### Import von einzelnen/allen Komponenten"
   ]
  },
  {
   "cell_type": "code",
   "execution_count": 83,
   "metadata": {},
   "outputs": [
    {
     "data": {
      "text/plain": [
       "5.0"
      ]
     },
     "execution_count": 83,
     "metadata": {},
     "output_type": "execute_result"
    }
   ],
   "source": [
    "from math import sqrt\n",
    "sqrt(25)"
   ]
  },
  {
   "cell_type": "code",
   "execution_count": 84,
   "metadata": {},
   "outputs": [
    {
     "data": {
      "text/plain": [
       "-1.0"
      ]
     },
     "execution_count": 84,
     "metadata": {},
     "output_type": "execute_result"
    }
   ],
   "source": [
    "from math import *\n",
    "cos(pi)"
   ]
  },
  {
   "attachments": {},
   "cell_type": "markdown",
   "metadata": {},
   "source": [
    "**Hinweis:** Eine Einführung in weitere häufig verwendete Module bzw. Packages folgt am zweiten Tag."
   ]
  },
  {
   "attachments": {},
   "cell_type": "markdown",
   "metadata": {},
   "source": [
    "# Input und Output\n",
    "\n",
    "## Dateien Lesen und Schreiben\n",
    "\n",
    "<https://docs.python.org/3/tutorial/inputoutput.html#reading-and-writing-files>\n",
    "\n",
    "# Klassen\n",
    "\n",
    "Klassen kapseln Attribute und Methoden in einem gemeinsamen Namensraum. Sie können verwendet werden, um durch objektorientierte Programmierung die reale Welt besser abzubilden. Objekte einer Klasse heißen *Instanzen*.\n",
    "\n",
    "## Beispiel: Klasse Point"
   ]
  },
  {
   "cell_type": "code",
   "execution_count": 85,
   "metadata": {},
   "outputs": [
    {
     "data": {
      "text/plain": [
       "(Point_0(1, 2), Point_1(3, 4))"
      ]
     },
     "execution_count": 85,
     "metadata": {},
     "output_type": "execute_result"
    }
   ],
   "source": [
    "class Point:\n",
    "    counter = 0\n",
    "    def __init__(self, *coords):\n",
    "        self.coords = coords\n",
    "        self.index = Point.counter\n",
    "        Point.counter += 1\n",
    "    def dist(self, other, *args, **kwargs):\n",
    "        return euclidean_dist(self.coords, other.coords, *args, **kwargs)\n",
    "    def __repr__(self):\n",
    "        return f\"Point_{self.index}{self.coords}\"\n",
    "\n",
    "point_a = Point(1, 2)\n",
    "point_b = Point(3, 4)\n",
    "point_a, point_b"
   ]
  },
  {
   "cell_type": "code",
   "execution_count": 86,
   "metadata": {},
   "outputs": [
    {
     "data": {
      "text/plain": [
       "2.8284271247461903"
      ]
     },
     "execution_count": 86,
     "metadata": {},
     "output_type": "execute_result"
    }
   ],
   "source": [
    "point_a.dist(point_b)"
   ]
  },
  {
   "attachments": {},
   "cell_type": "markdown",
   "metadata": {},
   "source": [
    "# Virtuelle Umgebungen\n",
    "\n",
    "<https://learntutorials.net/de/python/topic/868/virtuelle-umgebungen>"
   ]
  }
 ],
 "metadata": {
  "kernelspec": {
   "display_name": "env-data-science",
   "language": "python",
   "name": "python3"
  },
  "language_info": {
   "codemirror_mode": {
    "name": "ipython",
    "version": 3
   },
   "file_extension": ".py",
   "mimetype": "text/x-python",
   "name": "python",
   "nbconvert_exporter": "python",
   "pygments_lexer": "ipython3",
   "version": "3.10.2"
  },
  "orig_nbformat": 4,
  "vscode": {
   "interpreter": {
    "hash": "71cc2d0b8e68bbc03574d93540c373f4f169b161eb0c3cd3a9c85438aed10b11"
   }
  }
 },
 "nbformat": 4,
 "nbformat_minor": 2
}
